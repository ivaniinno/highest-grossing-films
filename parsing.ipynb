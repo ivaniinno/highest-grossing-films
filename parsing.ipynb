{
 "cells": [
  {
   "cell_type": "code",
   "execution_count": 1,
   "metadata": {},
   "outputs": [],
   "source": [
    "from bs4 import BeautifulSoup\n",
    "import requests\n",
    "import re"
   ]
  },
  {
   "cell_type": "code",
   "execution_count": 2,
   "metadata": {},
   "outputs": [],
   "source": [
    "HEADERS = {\"User-Agent\": \"Mozilla/5.0\"}\n",
    "BASE_URL = \"https://en.wikipedia.org\"\n",
    "HIGHEST_GROSSING_FILMS_URL = \"/wiki/List_of_highest-grossing_films\""
   ]
  },
  {
   "cell_type": "code",
   "execution_count": 3,
   "metadata": {},
   "outputs": [
    {
     "data": {
      "text/plain": [
       "200"
      ]
     },
     "execution_count": 3,
     "metadata": {},
     "output_type": "execute_result"
    }
   ],
   "source": [
    "page = requests.get(BASE_URL + HIGHEST_GROSSING_FILMS_URL, headers=HEADERS)\n",
    "page.status_code"
   ]
  },
  {
   "cell_type": "code",
   "execution_count": 4,
   "metadata": {},
   "outputs": [],
   "source": [
    "soup = BeautifulSoup(page.content, \"lxml\")"
   ]
  },
  {
   "cell_type": "code",
   "execution_count": 5,
   "metadata": {},
   "outputs": [],
   "source": [
    "highest_grossing_films_table = soup.find(\"table\", {\"class\": \"wikitable sortable plainrowheaders sticky-header col4right col5center col6center\"})"
   ]
  },
  {
   "cell_type": "code",
   "execution_count": 6,
   "metadata": {},
   "outputs": [],
   "source": [
    "film_titles = [highest_grossing_films_table.select(\"tr\")[i].select(\"th\")[0].a.text for i in range(1, len(highest_grossing_films_table.select(\"tr\")))]"
   ]
  },
  {
   "cell_type": "code",
   "execution_count": 7,
   "metadata": {},
   "outputs": [],
   "source": [
    "film_release_years = [highest_grossing_films_table.select(\"tr\")[i].select(\"td\")[3].text.strip() for i in range(1, len(highest_grossing_films_table.select(\"tr\")))]"
   ]
  },
  {
   "cell_type": "code",
   "execution_count": 8,
   "metadata": {},
   "outputs": [],
   "source": [
    "film_links = [BASE_URL + highest_grossing_films_table.select(\"tr\")[i].select(\"th\")[0].a.get(\"href\") for i in range(1, len(highest_grossing_films_table.select(\"tr\")))]"
   ]
  },
  {
   "cell_type": "code",
   "execution_count": 10,
   "metadata": {},
   "outputs": [],
   "source": [
    "directors = []\n",
    "\n",
    "for link in film_links:\n",
    "    film_page = requests.get(link, headers=HEADERS)\n",
    "    film_soup = BeautifulSoup(film_page.content, \"lxml\")\n",
    "    raw_string_director = film_soup.find(\"th\", string=\"Directed by\").find_next_sibling(\"td\").text\n",
    "    current_directors = re.sub(r'([a-z])([A-Z])',  r'\\1,\\2', re.sub(r'\\[\\d+\\]', \",\", raw_string_director.replace(\"\\n\", \"\"))).split(\",\")\n",
    "    directors.append(current_directors)"
   ]
  },
  {
   "cell_type": "code",
   "execution_count": 11,
   "metadata": {},
   "outputs": [],
   "source": [
    "films_box_office_revenues = [re.sub(r'^.*\\$', '$', highest_grossing_films_table.select(\"tr\")[i].select(\"td\")[2].text.strip()) for i in range(1, len(highest_grossing_films_table.select(\"tr\")))]"
   ]
  },
  {
   "cell_type": "code",
   "execution_count": 12,
   "metadata": {},
   "outputs": [],
   "source": [
    "film_countries = []\n",
    "\n",
    "for link in film_links:\n",
    "    film_page = requests.get(link, headers=HEADERS)\n",
    "    film_soup = BeautifulSoup(film_page.content, \"lxml\")\n",
    "    country_td = film_soup.find(\"th\", string=re.compile(r\"Country|Countries\")).find_next_sibling(\"td\")\n",
    "    \n",
    "    # Extract the text from the <td> element\n",
    "    if country_td.find(\"ul\"):\n",
    "    # If the countries are listed in a <ul> list\n",
    "        current_countries = [li.get_text() for li in country_td.find_all(\"li\")]\n",
    "    else:\n",
    "    # If the countries are separated by <br> tags\n",
    "        current_countries = country_td.get_text(\",\", strip=True).split(\",\")\n",
    "    \n",
    "    current_countries = [re.sub(r'([a-z])([A-Z])',  r'\\1,\\2', re.sub(r'\\[\\d+\\]', '', current_country.replace(\"\\n\", \"\"))) for current_country in current_countries]\n",
    "    \n",
    "    film_countries.append(current_countries)"
   ]
  },
  {
   "cell_type": "code",
   "execution_count": 13,
   "metadata": {},
   "outputs": [],
   "source": [
    "import sqlite3\n",
    "import json"
   ]
  },
  {
   "cell_type": "code",
   "execution_count": 14,
   "metadata": {},
   "outputs": [],
   "source": [
    "connection = sqlite3.connect(\"films.db\")\n",
    "cursor = connection.cursor()"
   ]
  },
  {
   "cell_type": "code",
   "execution_count": 15,
   "metadata": {},
   "outputs": [
    {
     "data": {
      "text/plain": [
       "<sqlite3.Cursor at 0x10deb39c0>"
      ]
     },
     "execution_count": 15,
     "metadata": {},
     "output_type": "execute_result"
    }
   ],
   "source": [
    "create_films_table = \"\"\"CREATE TABLE IF NOT EXISTS \n",
    "films(\n",
    "    id INTEGER PRIMARY KEY AUTOINCREMENT,\n",
    "    title TEXT NOT NULL,\n",
    "    release_year INTEGER,\n",
    "    director TEXT,\n",
    "    box_office_revenue TEXT,\n",
    "    country TEXT\n",
    ")\n",
    "\"\"\"\n",
    "cursor.execute(create_films_table)"
   ]
  },
  {
   "cell_type": "code",
   "execution_count": 16,
   "metadata": {},
   "outputs": [],
   "source": [
    "for title, release_year, directors, revenue, country in zip(film_titles, film_release_years, directors, films_box_office_revenues, film_countries):\n",
    "    cursor.execute(\"INSERT INTO films (title, release_year, director, box_office_revenue, country) VALUES (?, ?, ?, ?, ?)\", (title, release_year, \", \".join(directors), revenue, \", \".join(country)))"
   ]
  },
  {
   "cell_type": "code",
   "execution_count": 17,
   "metadata": {},
   "outputs": [],
   "source": [
    "# Writing to a JSON file\n",
    "cursor.execute(\"SELECT * FROM films\")\n",
    "\n",
    "films_data = cursor.fetchall()"
   ]
  },
  {
   "cell_type": "code",
   "execution_count": 18,
   "metadata": {},
   "outputs": [],
   "source": [
    "# Fetch column names\n",
    "column_names = [description[0] for description in cursor.description]\n",
    "\n",
    "# Transform films_data into a list of dictionaries\n",
    "films_list = [dict(zip(column_names, film)) for film in films_data]\n",
    "\n",
    "# Write to a JSON file\n",
    "with open(\"films.json\", \"w\") as file:\n",
    "    json.dump(films_list, file, indent=4)"
   ]
  },
  {
   "cell_type": "code",
   "execution_count": null,
   "metadata": {},
   "outputs": [],
   "source": []
  }
 ],
 "metadata": {
  "kernelspec": {
   "display_name": ".venv",
   "language": "python",
   "name": "python3"
  },
  "language_info": {
   "codemirror_mode": {
    "name": "ipython",
    "version": 3
   },
   "file_extension": ".py",
   "mimetype": "text/x-python",
   "name": "python",
   "nbconvert_exporter": "python",
   "pygments_lexer": "ipython3",
   "version": "3.13.2"
  }
 },
 "nbformat": 4,
 "nbformat_minor": 2
}
